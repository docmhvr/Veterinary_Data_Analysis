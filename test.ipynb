{
 "cells": [
  {
   "cell_type": "code",
   "execution_count": 1,
   "metadata": {},
   "outputs": [],
   "source": [
    "import pandas as pd\n",
    "import numpy as np\n",
    "import matplotlib.pyplot as plt"
   ]
  },
  {
   "cell_type": "code",
   "execution_count": 3,
   "metadata": {},
   "outputs": [],
   "source": [
    "pets = pd.read_csv(\"data/dummy_pets.csv\")\n",
    "procedures = pd.read_csv(\"data/dummy_procedures.csv\")"
   ]
  },
  {
   "cell_type": "code",
   "execution_count": 21,
   "metadata": {},
   "outputs": [
    {
     "data": {
      "text/plain": [
       "Index(['companyid', 'locationid', 'state', 'patientid', 'procedure_code',\n",
       "       'production', 'description', 'week_start_date'],\n",
       "      dtype='object')"
      ]
     },
     "execution_count": 21,
     "metadata": {},
     "output_type": "execute_result"
    }
   ],
   "source": [
    "pets.head()\n",
    "pets.columns\n",
    "\n",
    "procedures.head()\n",
    "procedures.columns"
   ]
  },
  {
   "cell_type": "code",
   "execution_count": 71,
   "metadata": {},
   "outputs": [
    {
     "data": {
      "text/plain": [
       "week_start_date\n",
       "False    607262\n",
       "Name: count, dtype: int64"
      ]
     },
     "execution_count": 71,
     "metadata": {},
     "output_type": "execute_result"
    }
   ],
   "source": [
    "pets[\"age\"].isnull().value_counts()\n",
    "procedures[\"procedure_code\"].isnull().value_counts() # This column has null values TODO\n",
    "procedures[\"week_start_date\"].isnull().value_counts()"
   ]
  },
  {
   "cell_type": "code",
   "execution_count": 72,
   "metadata": {},
   "outputs": [],
   "source": [
    "df = procedures[procedures[\"procedure_code\"].isnull()]\n",
    "df[\"description\"].value_counts()\n",
    "# C-SEC\n",
    "# VIRTUAL BRAVECTO 9-22\n",
    "procedures[procedures[\"description\"]==\"C-SEC\"]\n",
    "procedures[procedures[\"description\"]==\"VIRTUAL BRAVECTO 9-22\"]\n",
    "procedures[[\"description\",\"procedure_code\"]].value_counts()\n",
    "\n",
    "# As the number of rows with null values in procecure code is 256, given total of 607262 i.e 0.042%, dropping the null values might affect the analysis as we are trying to fing maximum is various fields, where count is more close giving the maximum\n",
    "# Hence instead of dropping the rows, we add a temp procedure code for \"C-SEC\" as CSEC and \"VIRTUAL BRAVECTO 9-22\" as VIRTBRAV\n",
    "\n",
    "procedures[procedures[\"description\"]==\"C-SEC\"]\n",
    "procedures[procedures[\"description\"]==\"VIRTUAL BRAVECTO 9-22\"]\n",
    "\n",
    "# df.loc[df['c1'] == 'Value', 'c2'] = 10 referenced from stack overflow\n",
    "procedures.loc[procedures[\"description\"]==\"C-SEC\", \"procedure_code\"] = \"CSEC\"\n",
    "procedures.loc[procedures[\"description\"]==\"VIRTUAL BRAVECTO 9-22\", \"procedure_code\"] = \"VIRTBRAV\""
   ]
  },
  {
   "cell_type": "code",
   "execution_count": 78,
   "metadata": {},
   "outputs": [
    {
     "data": {
      "text/plain": [
       "companyid  locationid  state  patientid  procedure_code  production  description            week_start_date\n",
       "V123289    1-Jan       MN     797        VIRTBRAV        71.0        VIRTUAL BRAVECTO 9-22  6/12/17            1\n",
       "V133130    1-Jan       WA     171        VIRTBRAV        64.0        VIRTUAL BRAVECTO 9-22  7/31/17            1\n",
       "                              195        VIRTBRAV        68.0        VIRTUAL BRAVECTO 9-22  2/20/17            1\n",
       "           2-Jan       NV     138        VIRTBRAV        70.0        VIRTUAL BRAVECTO 9-22  7/24/17            1\n",
       "                              260        VIRTBRAV        69.0        VIRTUAL BRAVECTO 9-22  4/27/20            1\n",
       "                                                                                                              ..\n",
       "V905124    1-Jan       NM     447        VIRTBRAV        68.0        VIRTUAL BRAVECTO 9-22  2/20/23            1\n",
       "                              624        VIRTBRAV        66.0        VIRTUAL BRAVECTO 9-22  2/27/17            1\n",
       "V960748    1-Jan       VA     804        VIRTBRAV        71.0        VIRTUAL BRAVECTO 9-22  12/4/17            1\n",
       "           2-Jan       OH     425        VIRTBRAV        68.0        VIRTUAL BRAVECTO 9-22  12/23/19           1\n",
       "V963087    1-Jan       ID     566        VIRTBRAV        67.0        VIRTUAL BRAVECTO 9-22  2/19/18            1\n",
       "Name: count, Length: 119, dtype: int64"
      ]
     },
     "execution_count": 78,
     "metadata": {},
     "output_type": "execute_result"
    }
   ],
   "source": [
    "procedures[procedures[\"procedure_code\"] == \"CSEC\"].value_counts()\n",
    "procedures[procedures[\"procedure_code\"] == \"VIRTBRAV\"].value_counts()\n",
    "# Now we have replaced the null values and have a clean dataset of pets and procedures"
   ]
  },
  {
   "cell_type": "markdown",
   "metadata": {},
   "source": [
    "### Tasks\n",
    "\n",
    "##### Practice Analysis \n",
    "\n",
    "o Count of unique companies.\n",
    "\n",
    "o Count of unique practice locations.\n",
    "\n",
    "o Find the practice with the most procedures in 2022, and plot their procedure counts \n",
    "over all years compared to the average of all practices.\n",
    "\n",
    "o Find the practice with the most production in 2017, and plot their production totals \n",
    "over all years compared to the average of all practices.\n",
    "\n",
    "##### Patient analysis\n",
    "\n",
    "o Number of unique pets in our database.\n",
    "\n",
    "o Average number of pets per owner.\n",
    "\n",
    "o Find the owner with the most pets, and provide a table with details on each pet.\n",
    "\n",
    "o Find the owner with the most clinic visits (number of procedures), and provide a table \n",
    "containing details of all of that owner’s visits.\n",
    "\n",
    "o Provide analysis of Cats vs. Dogs based on overall procedure history.\n",
    "\n",
    "##### Procedure Analysis\n",
    "\n",
    "o Plot the 10 most common procedure codes by count.\n",
    "\n",
    "o Provide analysis on the most common procedure code.\n",
    "\n",
    "o Build a procedure dataset for all procedures containing keyword “IDEXX” and provide \n",
    "analysis on this subset."
   ]
  },
  {
   "cell_type": "markdown",
   "metadata": {},
   "source": [
    "### Practice Analysis"
   ]
  },
  {
   "cell_type": "code",
   "execution_count": 41,
   "metadata": {},
   "outputs": [
    {
     "data": {
      "text/plain": [
       "procedure_code\n",
       "101         2808\n",
       "2360        2673\n",
       "1           1658\n",
       "OSHA        1589\n",
       "EXAM        1455\n",
       "            ... \n",
       "10485         92\n",
       "9574          91\n",
       "MAN7          91\n",
       "2000-003      90\n",
       "IL90999       83\n",
       "Name: count, Length: 3691, dtype: int64"
      ]
     },
     "execution_count": 41,
     "metadata": {},
     "output_type": "execute_result"
    }
   ],
   "source": []
  },
  {
   "cell_type": "markdown",
   "metadata": {},
   "source": [
    "### Patient Analysis"
   ]
  },
  {
   "cell_type": "code",
   "execution_count": null,
   "metadata": {},
   "outputs": [],
   "source": []
  },
  {
   "cell_type": "markdown",
   "metadata": {},
   "source": [
    "### Procedure Analysis"
   ]
  },
  {
   "cell_type": "code",
   "execution_count": null,
   "metadata": {},
   "outputs": [],
   "source": []
  }
 ],
 "metadata": {
  "kernelspec": {
   "display_name": ".venv",
   "language": "python",
   "name": "python3"
  },
  "language_info": {
   "codemirror_mode": {
    "name": "ipython",
    "version": 3
   },
   "file_extension": ".py",
   "mimetype": "text/x-python",
   "name": "python",
   "nbconvert_exporter": "python",
   "pygments_lexer": "ipython3",
   "version": "3.12.2"
  }
 },
 "nbformat": 4,
 "nbformat_minor": 2
}
