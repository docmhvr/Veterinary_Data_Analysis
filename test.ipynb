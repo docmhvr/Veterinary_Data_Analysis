{
 "cells": [
  {
   "cell_type": "code",
   "execution_count": 1,
   "metadata": {},
   "outputs": [],
   "source": [
    "import pandas as pd\n",
    "import numpy as np\n",
    "import matplotlib.pyplot as plt"
   ]
  },
  {
   "cell_type": "code",
   "execution_count": 3,
   "metadata": {},
   "outputs": [],
   "source": [
    "pets = pd.read_csv(\"data/dummy_pets.csv\")\n",
    "procedures = pd.read_csv(\"data/dummy_procedures.csv\")"
   ]
  },
  {
   "cell_type": "code",
   "execution_count": 92,
   "metadata": {},
   "outputs": [
    {
     "data": {
      "text/html": [
       "<div>\n",
       "<style scoped>\n",
       "    .dataframe tbody tr th:only-of-type {\n",
       "        vertical-align: middle;\n",
       "    }\n",
       "\n",
       "    .dataframe tbody tr th {\n",
       "        vertical-align: top;\n",
       "    }\n",
       "\n",
       "    .dataframe thead th {\n",
       "        text-align: right;\n",
       "    }\n",
       "</style>\n",
       "<table border=\"1\" class=\"dataframe\">\n",
       "  <thead>\n",
       "    <tr style=\"text-align: right;\">\n",
       "      <th></th>\n",
       "      <th>companyid</th>\n",
       "      <th>locationid</th>\n",
       "      <th>state</th>\n",
       "      <th>patientid</th>\n",
       "      <th>procedure_code</th>\n",
       "      <th>production</th>\n",
       "      <th>description</th>\n",
       "      <th>week_start_date</th>\n",
       "    </tr>\n",
       "  </thead>\n",
       "  <tbody>\n",
       "    <tr>\n",
       "      <th>0</th>\n",
       "      <td>V123289</td>\n",
       "      <td>1-Jan</td>\n",
       "      <td>MN</td>\n",
       "      <td>688</td>\n",
       "      <td>261</td>\n",
       "      <td>216.48</td>\n",
       "      <td>CHEM 17/LYTES/CBC (IN HOUSE)</td>\n",
       "      <td>1/2/17</td>\n",
       "    </tr>\n",
       "    <tr>\n",
       "      <th>1</th>\n",
       "      <td>V123289</td>\n",
       "      <td>1-Jan</td>\n",
       "      <td>MN</td>\n",
       "      <td>653</td>\n",
       "      <td>678</td>\n",
       "      <td>211.60</td>\n",
       "      <td>CANINE BOARDING 50-99#</td>\n",
       "      <td>1/2/17</td>\n",
       "    </tr>\n",
       "    <tr>\n",
       "      <th>2</th>\n",
       "      <td>V123289</td>\n",
       "      <td>1-Jan</td>\n",
       "      <td>MN</td>\n",
       "      <td>384</td>\n",
       "      <td>GAB2505</td>\n",
       "      <td>20.50</td>\n",
       "      <td>GABAPENTIN 250MG5ML</td>\n",
       "      <td>1/2/17</td>\n",
       "    </tr>\n",
       "    <tr>\n",
       "      <th>3</th>\n",
       "      <td>V123289</td>\n",
       "      <td>1-Jan</td>\n",
       "      <td>MN</td>\n",
       "      <td>147</td>\n",
       "      <td>4790</td>\n",
       "      <td>51.00</td>\n",
       "      <td>INTERCEPTOR PLUS - 8.1-25LBS - SINGLE</td>\n",
       "      <td>1/2/17</td>\n",
       "    </tr>\n",
       "    <tr>\n",
       "      <th>4</th>\n",
       "      <td>V123289</td>\n",
       "      <td>1-Jan</td>\n",
       "      <td>MN</td>\n",
       "      <td>448</td>\n",
       "      <td>CADI60</td>\n",
       "      <td>148.50</td>\n",
       "      <td>CYTOPOINT INJECTION 50.1-60LBS</td>\n",
       "      <td>1/2/17</td>\n",
       "    </tr>\n",
       "  </tbody>\n",
       "</table>\n",
       "</div>"
      ],
      "text/plain": [
       "  companyid locationid state  patientid procedure_code  production  \\\n",
       "0   V123289      1-Jan    MN        688            261      216.48   \n",
       "1   V123289      1-Jan    MN        653            678      211.60   \n",
       "2   V123289      1-Jan    MN        384        GAB2505       20.50   \n",
       "3   V123289      1-Jan    MN        147           4790       51.00   \n",
       "4   V123289      1-Jan    MN        448         CADI60      148.50   \n",
       "\n",
       "                             description week_start_date  \n",
       "0           CHEM 17/LYTES/CBC (IN HOUSE)          1/2/17  \n",
       "1                 CANINE BOARDING 50-99#          1/2/17  \n",
       "2                    GABAPENTIN 250MG5ML          1/2/17  \n",
       "3  INTERCEPTOR PLUS - 8.1-25LBS - SINGLE          1/2/17  \n",
       "4         CYTOPOINT INJECTION 50.1-60LBS          1/2/17  "
      ]
     },
     "execution_count": 92,
     "metadata": {},
     "output_type": "execute_result"
    }
   ],
   "source": [
    "pets.head()\n",
    "# pets.columns\n",
    "\n",
    "procedures.head()\n",
    "# procedures.columns"
   ]
  },
  {
   "cell_type": "code",
   "execution_count": 71,
   "metadata": {},
   "outputs": [
    {
     "data": {
      "text/plain": [
       "week_start_date\n",
       "False    607262\n",
       "Name: count, dtype: int64"
      ]
     },
     "execution_count": 71,
     "metadata": {},
     "output_type": "execute_result"
    }
   ],
   "source": [
    "pets[\"age\"].isnull().value_counts()\n",
    "procedures[\"procedure_code\"].isnull().value_counts() # This column has null values TODO\n",
    "procedures[\"week_start_date\"].isnull().value_counts()"
   ]
  },
  {
   "cell_type": "code",
   "execution_count": 72,
   "metadata": {},
   "outputs": [],
   "source": [
    "df = procedures[procedures[\"procedure_code\"].isnull()]\n",
    "df[\"description\"].value_counts()\n",
    "# C-SEC\n",
    "# VIRTUAL BRAVECTO 9-22\n",
    "procedures[procedures[\"description\"]==\"C-SEC\"]\n",
    "procedures[procedures[\"description\"]==\"VIRTUAL BRAVECTO 9-22\"]\n",
    "procedures[[\"description\",\"procedure_code\"]].value_counts()\n",
    "\n",
    "# As the number of rows with null values in procecure code is 256, given total of 607262 i.e 0.042%, dropping the null values might affect the analysis as we are trying to fing maximum is various fields, where count is more close giving the maximum\n",
    "# Hence instead of dropping the rows, we add a temp procedure code for \"C-SEC\" as CSEC and \"VIRTUAL BRAVECTO 9-22\" as VIRTBRAV\n",
    "\n",
    "procedures[procedures[\"description\"]==\"C-SEC\"]\n",
    "procedures[procedures[\"description\"]==\"VIRTUAL BRAVECTO 9-22\"]\n",
    "\n",
    "# df.loc[df['c1'] == 'Value', 'c2'] = 10 referenced from stack overflow\n",
    "procedures.loc[procedures[\"description\"]==\"C-SEC\", \"procedure_code\"] = \"CSEC\"\n",
    "procedures.loc[procedures[\"description\"]==\"VIRTUAL BRAVECTO 9-22\", \"procedure_code\"] = \"VIRTBRAV\""
   ]
  },
  {
   "cell_type": "code",
   "execution_count": 78,
   "metadata": {},
   "outputs": [
    {
     "data": {
      "text/plain": [
       "companyid  locationid  state  patientid  procedure_code  production  description            week_start_date\n",
       "V123289    1-Jan       MN     797        VIRTBRAV        71.0        VIRTUAL BRAVECTO 9-22  6/12/17            1\n",
       "V133130    1-Jan       WA     171        VIRTBRAV        64.0        VIRTUAL BRAVECTO 9-22  7/31/17            1\n",
       "                              195        VIRTBRAV        68.0        VIRTUAL BRAVECTO 9-22  2/20/17            1\n",
       "           2-Jan       NV     138        VIRTBRAV        70.0        VIRTUAL BRAVECTO 9-22  7/24/17            1\n",
       "                              260        VIRTBRAV        69.0        VIRTUAL BRAVECTO 9-22  4/27/20            1\n",
       "                                                                                                              ..\n",
       "V905124    1-Jan       NM     447        VIRTBRAV        68.0        VIRTUAL BRAVECTO 9-22  2/20/23            1\n",
       "                              624        VIRTBRAV        66.0        VIRTUAL BRAVECTO 9-22  2/27/17            1\n",
       "V960748    1-Jan       VA     804        VIRTBRAV        71.0        VIRTUAL BRAVECTO 9-22  12/4/17            1\n",
       "           2-Jan       OH     425        VIRTBRAV        68.0        VIRTUAL BRAVECTO 9-22  12/23/19           1\n",
       "V963087    1-Jan       ID     566        VIRTBRAV        67.0        VIRTUAL BRAVECTO 9-22  2/19/18            1\n",
       "Name: count, Length: 119, dtype: int64"
      ]
     },
     "execution_count": 78,
     "metadata": {},
     "output_type": "execute_result"
    }
   ],
   "source": [
    "procedures[procedures[\"procedure_code\"] == \"CSEC\"].value_counts()\n",
    "procedures[procedures[\"procedure_code\"] == \"VIRTBRAV\"].value_counts()\n",
    "# Now we have replaced the null values and have a clean dataset of pets and procedures"
   ]
  },
  {
   "cell_type": "code",
   "execution_count": 114,
   "metadata": {},
   "outputs": [
    {
     "data": {
      "text/html": [
       "<div>\n",
       "<style scoped>\n",
       "    .dataframe tbody tr th:only-of-type {\n",
       "        vertical-align: middle;\n",
       "    }\n",
       "\n",
       "    .dataframe tbody tr th {\n",
       "        vertical-align: top;\n",
       "    }\n",
       "\n",
       "    .dataframe thead th {\n",
       "        text-align: right;\n",
       "    }\n",
       "</style>\n",
       "<table border=\"1\" class=\"dataframe\">\n",
       "  <thead>\n",
       "    <tr style=\"text-align: right;\">\n",
       "      <th></th>\n",
       "      <th>companyid</th>\n",
       "      <th>locationid</th>\n",
       "      <th>state</th>\n",
       "      <th>patientid</th>\n",
       "      <th>procedure_code</th>\n",
       "      <th>production</th>\n",
       "      <th>description</th>\n",
       "      <th>week_start_date</th>\n",
       "      <th>year</th>\n",
       "    </tr>\n",
       "  </thead>\n",
       "  <tbody>\n",
       "    <tr>\n",
       "      <th>0</th>\n",
       "      <td>V123289</td>\n",
       "      <td>1-Jan</td>\n",
       "      <td>MN</td>\n",
       "      <td>688</td>\n",
       "      <td>261</td>\n",
       "      <td>216.48</td>\n",
       "      <td>CHEM 17/LYTES/CBC (IN HOUSE)</td>\n",
       "      <td>2017-01-02</td>\n",
       "      <td>2017</td>\n",
       "    </tr>\n",
       "    <tr>\n",
       "      <th>1</th>\n",
       "      <td>V123289</td>\n",
       "      <td>1-Jan</td>\n",
       "      <td>MN</td>\n",
       "      <td>653</td>\n",
       "      <td>678</td>\n",
       "      <td>211.60</td>\n",
       "      <td>CANINE BOARDING 50-99#</td>\n",
       "      <td>2017-01-02</td>\n",
       "      <td>2017</td>\n",
       "    </tr>\n",
       "    <tr>\n",
       "      <th>2</th>\n",
       "      <td>V123289</td>\n",
       "      <td>1-Jan</td>\n",
       "      <td>MN</td>\n",
       "      <td>384</td>\n",
       "      <td>GAB2505</td>\n",
       "      <td>20.50</td>\n",
       "      <td>GABAPENTIN 250MG5ML</td>\n",
       "      <td>2017-01-02</td>\n",
       "      <td>2017</td>\n",
       "    </tr>\n",
       "    <tr>\n",
       "      <th>3</th>\n",
       "      <td>V123289</td>\n",
       "      <td>1-Jan</td>\n",
       "      <td>MN</td>\n",
       "      <td>147</td>\n",
       "      <td>4790</td>\n",
       "      <td>51.00</td>\n",
       "      <td>INTERCEPTOR PLUS - 8.1-25LBS - SINGLE</td>\n",
       "      <td>2017-01-02</td>\n",
       "      <td>2017</td>\n",
       "    </tr>\n",
       "    <tr>\n",
       "      <th>4</th>\n",
       "      <td>V123289</td>\n",
       "      <td>1-Jan</td>\n",
       "      <td>MN</td>\n",
       "      <td>448</td>\n",
       "      <td>CADI60</td>\n",
       "      <td>148.50</td>\n",
       "      <td>CYTOPOINT INJECTION 50.1-60LBS</td>\n",
       "      <td>2017-01-02</td>\n",
       "      <td>2017</td>\n",
       "    </tr>\n",
       "  </tbody>\n",
       "</table>\n",
       "</div>"
      ],
      "text/plain": [
       "  companyid locationid state  patientid procedure_code  production  \\\n",
       "0   V123289      1-Jan    MN        688            261      216.48   \n",
       "1   V123289      1-Jan    MN        653            678      211.60   \n",
       "2   V123289      1-Jan    MN        384        GAB2505       20.50   \n",
       "3   V123289      1-Jan    MN        147           4790       51.00   \n",
       "4   V123289      1-Jan    MN        448         CADI60      148.50   \n",
       "\n",
       "                             description week_start_date  year  \n",
       "0           CHEM 17/LYTES/CBC (IN HOUSE)      2017-01-02  2017  \n",
       "1                 CANINE BOARDING 50-99#      2017-01-02  2017  \n",
       "2                    GABAPENTIN 250MG5ML      2017-01-02  2017  \n",
       "3  INTERCEPTOR PLUS - 8.1-25LBS - SINGLE      2017-01-02  2017  \n",
       "4         CYTOPOINT INJECTION 50.1-60LBS      2017-01-02  2017  "
      ]
     },
     "execution_count": 114,
     "metadata": {},
     "output_type": "execute_result"
    }
   ],
   "source": [
    "# df = procedures.copy()\n",
    "# df['week_start_date'] = pd.to_datetime(df['week_start_date'], format='%m/%d/%y')\n",
    "# df['year'] = df['week_start_date'].dt.year\n",
    "# df.head()\n",
    "procedures['week_start_date'] = pd.to_datetime(procedures['week_start_date'], format='%m/%d/%y')\n",
    "procedures['year'] = procedures['week_start_date'].dt.year\n",
    "procedures.head()\n"
   ]
  },
  {
   "cell_type": "markdown",
   "metadata": {},
   "source": [
    "### Tasks"
   ]
  },
  {
   "cell_type": "markdown",
   "metadata": {},
   "source": [
    "### Practice Analysis \n",
    "\n",
    "o Count of unique companies.\n",
    "\n",
    "o Count of unique practice locations.\n",
    "\n",
    "o Find the practice with the most procedures in 2022, and plot their procedure counts \n",
    "over all years compared to the average of all practices.\n",
    "\n",
    "o Find the practice with the most production in 2017, and plot their production totals \n",
    "over all years compared to the average of all practices."
   ]
  },
  {
   "cell_type": "code",
   "execution_count": 89,
   "metadata": {},
   "outputs": [
    {
     "name": "stdout",
     "output_type": "stream",
     "text": [
      "52\n"
     ]
    }
   ],
   "source": [
    "unique_companies = procedures['companyid'].nunique()\n",
    "print(unique_companies)"
   ]
  },
  {
   "cell_type": "code",
   "execution_count": 90,
   "metadata": {},
   "outputs": [
    {
     "name": "stdout",
     "output_type": "stream",
     "text": [
      "98\n"
     ]
    }
   ],
   "source": [
    "unique_practice_locations = procedures[['companyid', 'locationid']].drop_duplicates().shape[0]\n",
    "print(unique_practice_locations)"
   ]
  },
  {
   "cell_type": "code",
   "execution_count": 119,
   "metadata": {},
   "outputs": [
    {
     "name": "stdout",
     "output_type": "stream",
     "text": [
      "('V888834', '2-Jan')\n"
     ]
    }
   ],
   "source": [
    "procedures_2022 = procedures[procedures['year']==2022]\n",
    "procedures_2022.head()\n",
    "practice_most_procedures_2022 = procedures_2022.groupby(['companyid', 'locationid'])\n",
    "practice_most_procedures_2022 = practice_most_procedures_2022.size().idxmax()\n",
    "print(practice_most_procedures_2022)\n",
    "# practice_most_procedures_2022[0]\n",
    "# practice_most_procedures_2022[1]"
   ]
  },
  {
   "cell_type": "code",
   "execution_count": 159,
   "metadata": {},
   "outputs": [
    {
     "name": "stdout",
     "output_type": "stream",
     "text": [
      "year\n",
      "2017    1048\n",
      "2018     682\n",
      "2019     690\n",
      "2020     740\n",
      "2021     671\n",
      "2022     891\n",
      "2023     550\n",
      "dtype: int64\n",
      "year\n",
      "2017    1933.367347\n",
      "2018    1010.632653\n",
      "2019     726.010204\n",
      "2020     630.091837\n",
      "2021     627.153061\n",
      "2022     630.622449\n",
      "2023     638.673469\n",
      "dtype: float64\n"
     ]
    },
    {
     "data": {
      "image/png": "[encoded data removed]",
      "text/plain": [
       "<Figure size 640x480 with 1 Axes>"
      ]
     },
     "metadata": {},
     "output_type": "display_data"
    }
   ],
   "source": [
    "practice_procedures = procedures[(procedures['companyid'] == practice_most_procedures_2022[0]) & (procedures['locationid'] == practice_most_procedures_2022[1])]\n",
    "yearly_counts = practice_procedures.groupby([\"year\"]).size()\n",
    "print(yearly_counts)\n",
    "\n",
    "avg_yearly_counts = procedures.groupby([\"year\", \"companyid\", \"locationid\"]).size().groupby([\"year\"]).mean()\n",
    "print(avg_yearly_counts)\n",
    "\n",
    "plt.plot(yearly_counts.index, yearly_counts.values, label='Most Practice Procedures 22\\'')\n",
    "plt.plot(avg_yearly_counts.index, avg_yearly_counts.values, label='Average Procedures',  linestyle='--')\n",
    "plt.xlabel('Year')\n",
    "plt.ylabel('Procedure Counts')\n",
    "plt.title('Procedure Counts Over Years')\n",
    "plt.legend()\n",
    "plt.show()"
   ]
  },
  {
   "cell_type": "code",
   "execution_count": 161,
   "metadata": {},
   "outputs": [
    {
     "name": "stdout",
     "output_type": "stream",
     "text": [
      "('V822321', '2-Jan')\n"
     ]
    }
   ],
   "source": [
    "procedures_2017 = procedures[procedures[\"year\"]==2017]\n",
    "practice_most_production_2017 = procedures_2017.groupby(['companyid', 'locationid'])['production'].sum().idxmax()\n",
    "print(practice_most_production_2017)"
   ]
  },
  {
   "cell_type": "code",
   "execution_count": 181,
   "metadata": {},
   "outputs": [
    {
     "data": {
      "image/png": "[encoded data removed]",
      "text/plain": [
       "<Figure size 640x480 with 1 Axes>"
      ]
     },
     "metadata": {},
     "output_type": "display_data"
    }
   ],
   "source": [
    "practice_production = procedures[(procedures['companyid'] == practice_most_production_2017[0]) & (procedures['locationid'] == practice_most_production_2017[1])]\n",
    "yearly_production = practice_production.groupby([\"year\"])['production'].sum()\n",
    "# yearly_production\n",
    "\n",
    "avg_yearly_production = procedures.groupby([\"year\",\"companyid\", \"locationid\"])['production'].sum().groupby([\"year\"]).mean()\n",
    "# avg_yearly_production\n",
    "\n",
    "plt.plot(yearly_production.index, yearly_production.values, label='Most Production Practice 17\\'')\n",
    "plt.plot(avg_yearly_production.index, avg_yearly_production.values, label='Average Production',  linestyle='--')\n",
    "plt.xlabel('Year')\n",
    "plt.ylabel('Production Totals')\n",
    "plt.title('Production Totals Over Years')\n",
    "plt.legend()\n",
    "plt.show()"
   ]
  },
  {
   "cell_type": "markdown",
   "metadata": {},
   "source": [
    "##### Patient analysis\n",
    "\n",
    "o Number of unique pets in our database.\n",
    "\n",
    "o Average number of pets per owner.\n",
    "\n",
    "o Find the owner with the most pets, and provide a table with details on each pet.\n",
    "\n",
    "o Find the owner with the most clinic visits (number of procedures), and provide a table \n",
    "containing details of all of that owner’s visits.\n",
    "\n",
    "o Provide analysis of Cats vs. Dogs based on overall procedure history."
   ]
  },
  {
   "cell_type": "code",
   "execution_count": null,
   "metadata": {},
   "outputs": [],
   "source": []
  },
  {
   "cell_type": "markdown",
   "metadata": {},
   "source": [
    "##### Procedure Analysis\n",
    "\n",
    "o Plot the 10 most common procedure codes by count.\n",
    "\n",
    "o Provide analysis on the most common procedure code.\n",
    "\n",
    "o Build a procedure dataset for all procedures containing keyword “IDEXX” and provide \n",
    "analysis on this subset."
   ]
  },
  {
   "cell_type": "code",
   "execution_count": null,
   "metadata": {},
   "outputs": [],
   "source": []
  },
  {
   "cell_type": "code",
   "execution_count": null,
   "metadata": {},
   "outputs": [],
   "source": []
  },
  {
   "cell_type": "code",
   "execution_count": null,
   "metadata": {},
   "outputs": [],
   "source": []
  }
 ],
 "metadata": {
  "kernelspec": {
   "display_name": ".venv",
   "language": "python",
   "name": "python3"
  },
  "language_info": {
   "codemirror_mode": {
    "name": "ipython",
    "version": 3
   },
   "file_extension": ".py",
   "mimetype": "text/x-python",
   "name": "python",
   "nbconvert_exporter": "python",
   "pygments_lexer": "ipython3",
   "version": "3.12.2"
  }
 },
 "nbformat": 4,
 "nbformat_minor": 2
}
