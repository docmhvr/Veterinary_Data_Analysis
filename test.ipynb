{
 "cells": [
  {
   "cell_type": "code",
   "execution_count": null,
   "metadata": {},
   "outputs": [],
   "source": [
    "import pandas as pd\n",
    "import numpy as np\n",
    "import matplotlib.pyplot as plt"
   ]
  },
  {
   "cell_type": "code",
   "execution_count": null,
   "metadata": {},
   "outputs": [],
   "source": [
    "pets = pd.read_csv(\"data/dummy_pets.csv\")\n",
    "procedures = pd.read_csv(\"data/dummy_procedures.csv\")"
   ]
  },
  {
   "cell_type": "code",
   "execution_count": null,
   "metadata": {},
   "outputs": [],
   "source": [
    "pets.head()\n",
    "# pets.columns\n",
    "\n",
    "procedures.head()\n",
    "# procedures.columns"
   ]
  },
  {
   "cell_type": "code",
   "execution_count": null,
   "metadata": {},
   "outputs": [],
   "source": [
    "pets[\"age\"].isnull().value_counts()\n",
    "procedures[\"procedure_code\"].isnull().value_counts() # This column has null values TODO\n",
    "procedures[\"week_start_date\"].isnull().value_counts()"
   ]
  },
  {
   "cell_type": "code",
   "execution_count": null,
   "metadata": {},
   "outputs": [],
   "source": [
    "df = procedures[procedures[\"procedure_code\"].isnull()]\n",
    "df[\"description\"].value_counts()\n",
    "# C-SEC\n",
    "# VIRTUAL BRAVECTO 9-22\n",
    "procedures[procedures[\"description\"]==\"C-SEC\"]\n",
    "procedures[procedures[\"description\"]==\"VIRTUAL BRAVECTO 9-22\"]\n",
    "procedures[[\"description\",\"procedure_code\"]].value_counts()\n",
    "\n",
    "# As the number of rows with null values in procecure code is 256, given total of 607262 i.e 0.042%, dropping the null values might affect the analysis as we are trying to fing maximum is various fields, where count is more close giving the maximum\n",
    "# Hence instead of dropping the rows, we add a temp procedure code for \"C-SEC\" as CSEC and \"VIRTUAL BRAVECTO 9-22\" as VIRTBRAV\n",
    "\n",
    "procedures[procedures[\"description\"]==\"C-SEC\"]\n",
    "procedures[procedures[\"description\"]==\"VIRTUAL BRAVECTO 9-22\"]\n",
    "\n",
    "# df.loc[df['c1'] == 'Value', 'c2'] = 10 referenced from stack overflow\n",
    "procedures.loc[procedures[\"description\"]==\"C-SEC\", \"procedure_code\"] = \"CSEC\"\n",
    "procedures.loc[procedures[\"description\"]==\"VIRTUAL BRAVECTO 9-22\", \"procedure_code\"] = \"VIRTBRAV\""
   ]
  },
  {
   "cell_type": "code",
   "execution_count": null,
   "metadata": {},
   "outputs": [],
   "source": [
    "procedures[procedures[\"procedure_code\"] == \"CSEC\"].value_counts()\n",
    "procedures[procedures[\"procedure_code\"] == \"VIRTBRAV\"].value_counts()\n",
    "# Now we have replaced the null values and have a clean dataset of pets and procedures"
   ]
  },
  {
   "cell_type": "code",
   "execution_count": null,
   "metadata": {},
   "outputs": [],
   "source": [
    "# df = procedures.copy()\n",
    "# df['week_start_date'] = pd.to_datetime(df['week_start_date'], format='%m/%d/%y')\n",
    "# df['year'] = df['week_start_date'].dt.year\n",
    "# df.head()\n",
    "procedures['week_start_date'] = pd.to_datetime(procedures['week_start_date'], format='%m/%d/%y')\n",
    "procedures['year'] = procedures['week_start_date'].dt.year\n",
    "procedures.head()\n"
   ]
  },
  {
   "cell_type": "markdown",
   "metadata": {},
   "source": [
    "### Tasks"
   ]
  },
  {
   "cell_type": "markdown",
   "metadata": {},
   "source": [
    "### Practice Analysis \n",
    "\n",
    "o Count of unique companies.\n",
    "\n",
    "o Count of unique practice locations.\n",
    "\n",
    "o Find the practice with the most procedures in 2022, and plot their procedure counts \n",
    "over all years compared to the average of all practices.\n",
    "\n",
    "o Find the practice with the most production in 2017, and plot their production totals \n",
    "over all years compared to the average of all practices."
   ]
  },
  {
   "cell_type": "code",
   "execution_count": null,
   "metadata": {},
   "outputs": [],
   "source": [
    "unique_companies = procedures['companyid'].nunique()\n",
    "print(unique_companies)"
   ]
  },
  {
   "cell_type": "code",
   "execution_count": null,
   "metadata": {},
   "outputs": [],
   "source": [
    "unique_practice_locations = procedures[['companyid', 'locationid']].drop_duplicates().shape[0]\n",
    "print(unique_practice_locations)"
   ]
  },
  {
   "cell_type": "code",
   "execution_count": null,
   "metadata": {},
   "outputs": [],
   "source": [
    "procedures_2022 = procedures[procedures['year']==2022]\n",
    "procedures_2022.head()\n",
    "practice_most_procedures_2022 = procedures_2022.groupby(['companyid', 'locationid'])\n",
    "practice_most_procedures_2022 = practice_most_procedures_2022.size().idxmax()\n",
    "print(practice_most_procedures_2022)\n",
    "# practice_most_procedures_2022[0]\n",
    "# practice_most_procedures_2022[1]"
   ]
  },
  {
   "cell_type": "code",
   "execution_count": null,
   "metadata": {},
   "outputs": [],
   "source": [
    "practice_procedures = procedures[(procedures['companyid'] == practice_most_procedures_2022[0]) & (procedures['locationid'] == practice_most_procedures_2022[1])]\n",
    "yearly_counts = practice_procedures.groupby([\"year\"]).size()\n",
    "print(yearly_counts)\n",
    "\n",
    "avg_yearly_counts = procedures.groupby([\"year\", \"companyid\", \"locationid\"]).size().groupby([\"year\"]).mean()\n",
    "print(avg_yearly_counts)\n",
    "\n",
    "plt.plot(yearly_counts.index, yearly_counts.values, label='Most Practice Procedures 22\\'')\n",
    "plt.plot(avg_yearly_counts.index, avg_yearly_counts.values, label='Average Procedures',  linestyle='--')\n",
    "plt.xlabel('Year')\n",
    "plt.ylabel('Procedure Counts')\n",
    "plt.title('Procedure Counts Over Years')\n",
    "plt.legend()\n",
    "plt.show()"
   ]
  },
  {
   "cell_type": "code",
   "execution_count": null,
   "metadata": {},
   "outputs": [],
   "source": [
    "procedures_2017 = procedures[procedures[\"year\"]==2017]\n",
    "practice_most_production_2017 = procedures_2017.groupby(['companyid', 'locationid'])['production'].sum().idxmax()\n",
    "print(practice_most_production_2017)"
   ]
  },
  {
   "cell_type": "code",
   "execution_count": null,
   "metadata": {},
   "outputs": [],
   "source": [
    "practice_production = procedures[(procedures['companyid'] == practice_most_production_2017[0]) & (procedures['locationid'] == practice_most_production_2017[1])]\n",
    "yearly_production = practice_production.groupby([\"year\"])['production'].sum()\n",
    "# yearly_production\n",
    "\n",
    "avg_yearly_production = procedures.groupby([\"year\",\"companyid\", \"locationid\"])['production'].sum().groupby([\"year\"]).mean()\n",
    "# avg_yearly_production\n",
    "\n",
    "plt.plot(yearly_production.index, yearly_production.values, label='Most Production Practice 17\\'')\n",
    "plt.plot(avg_yearly_production.index, avg_yearly_production.values, label='Average Production',  linestyle='--')\n",
    "plt.xlabel('Year')\n",
    "plt.ylabel('Production Totals')\n",
    "plt.title('Production Totals Over Years')\n",
    "plt.legend()\n",
    "plt.show()"
   ]
  },
  {
   "cell_type": "markdown",
   "metadata": {},
   "source": [
    "##### Patient analysis\n",
    "\n",
    "o Number of unique pets in our database.\n",
    "\n",
    "o Average number of pets per owner.\n",
    "\n",
    "o Find the owner with the most pets, and provide a table with details on each pet.\n",
    "\n",
    "o Find the owner with the most clinic visits (number of procedures), and provide a table \n",
    "containing details of all of that owner’s visits.\n",
    "\n",
    "o Provide analysis of Cats vs. Dogs based on overall procedure history."
   ]
  },
  {
   "cell_type": "code",
   "execution_count": null,
   "metadata": {},
   "outputs": [],
   "source": [
    "unique_pets = pets['patientid'].nunique()\n",
    "print(unique_pets)"
   ]
  },
  {
   "cell_type": "code",
   "execution_count": null,
   "metadata": {},
   "outputs": [],
   "source": [
    "avg_pets_per_owner = pets.groupby('clientid').size().mean()\n",
    "print(int(avg_pets_per_owner))"
   ]
  },
  {
   "cell_type": "code",
   "execution_count": null,
   "metadata": {},
   "outputs": [],
   "source": [
    "owner_most_pets = pets.groupby('clientid').size().idxmax()\n",
    "owner_most_pets_details = pets[pets['clientid'] == owner_most_pets]\n",
    "print(owner_most_pets)\n",
    "owner_most_pets_details"
   ]
  },
  {
   "cell_type": "code",
   "execution_count": null,
   "metadata": {},
   "outputs": [],
   "source": [
    "# Performing similar ops like SQL joins using merge method of pandas dataframe in Python's Pandas\n",
    "procedures_with_client = procedures.merge(pets[['patientid', 'clientid']], on='patientid')\n",
    "owner_most_visits = procedures_with_client.groupby('clientid').size().idxmax()\n",
    "print(owner_most_visits)"
   ]
  },
  {
   "cell_type": "code",
   "execution_count": null,
   "metadata": {},
   "outputs": [],
   "source": [
    "owner_most_visits_details = procedures_with_client[procedures_with_client['clientid'] == owner_most_visits]\n",
    "df = owner_most_visits_details.copy()\n",
    "owner_most_visits_details"
   ]
  },
  {
   "cell_type": "code",
   "execution_count": null,
   "metadata": {},
   "outputs": [],
   "source": [
    "# Owner with most pets has most visits LOL\n",
    "most_visited_owner = pd.merge(procedures_with_client[procedures_with_client['clientid'] == owner_most_visits][[\"clientid\", \"companyid\", \"locationid\", \"procedure_code\"]], pets[[\"breed\", \"species\", \"age\", \"clientid\"]], on='clientid')"
   ]
  },
  {
   "cell_type": "code",
   "execution_count": null,
   "metadata": {},
   "outputs": [],
   "source": [
    "most_visited_owner.value_counts()"
   ]
  },
  {
   "cell_type": "code",
   "execution_count": null,
   "metadata": {},
   "outputs": [],
   "source": [
    "procedures_with_species = procedures.merge(pets[['companyid', 'locationid', 'patientid', 'species']], on=['companyid', 'locationid', 'patientid'])\n",
    "# procedures_with_species[\"species\"].value_counts()\n",
    "cats_procedures = procedures_with_species[procedures_with_species['species'] == 'CAT']\n",
    "dogs_procedures = procedures_with_species[procedures_with_species['species'] == 'DOG']\n",
    "# dogs_procedures\n",
    "# cats_procedures"
   ]
  },
  {
   "cell_type": "code",
   "execution_count": null,
   "metadata": {},
   "outputs": [],
   "source": [
    "# Analysis (e.g., counts, common procedures)\n",
    "cats_procedure_counts = cats_procedures['procedure_code'].value_counts()\n",
    "dogs_procedure_counts = dogs_procedures['procedure_code'].value_counts()\n",
    "\n",
    "# Display the results\n",
    "print(\"Cats Procedures Counts:\")\n",
    "print(cats_procedure_counts)\n",
    "\n",
    "print(\"\\nDogs Procedures Counts:\")\n",
    "print(dogs_procedure_counts)"
   ]
  },
  {
   "cell_type": "markdown",
   "metadata": {},
   "source": [
    "##### Procedure Analysis\n",
    "\n",
    "o Plot the 10 most common procedure codes by count.\n",
    "\n",
    "o Provide analysis on the most common procedure code.\n",
    "\n",
    "o Build a procedure dataset for all procedures containing keyword “IDEXX” and provide \n",
    "analysis on this subset."
   ]
  },
  {
   "cell_type": "code",
   "execution_count": null,
   "metadata": {},
   "outputs": [],
   "source": [
    "top_10_procedures = procedures['procedure_code'].value_counts().head(10)\n",
    "print(top_10_procedures)\n",
    "top_10_procedures.plot(kind='bar')\n",
    "plt.xlabel('Procedure Code')\n",
    "plt.ylabel('Count')\n",
    "plt.title('Top 10 Most Common Procedures')\n",
    "plt.show()"
   ]
  },
  {
   "cell_type": "code",
   "execution_count": null,
   "metadata": {},
   "outputs": [],
   "source": [
    "most_common_procedure_code = procedures['procedure_code'].value_counts().idxmax()\n",
    "print(most_common_procedure_code)\n",
    "most_common_procedure_details = procedures[procedures['procedure_code'] == most_common_procedure_code]\n",
    "most_common_procedure_details"
   ]
  },
  {
   "cell_type": "code",
   "execution_count": null,
   "metadata": {},
   "outputs": [],
   "source": [
    "idexx_procedures = procedures[procedures['description'].str.contains('IDEXX')]\n",
    "idexx_procedures"
   ]
  }
 ],
 "metadata": {
  "kernelspec": {
   "display_name": ".venv",
   "language": "python",
   "name": "python3"
  },
  "language_info": {
   "codemirror_mode": {
    "name": "ipython",
    "version": 3
   },
   "file_extension": ".py",
   "mimetype": "text/x-python",
   "name": "python",
   "nbconvert_exporter": "python",
   "pygments_lexer": "ipython3",
   "version": "3.12.2"
  }
 },
 "nbformat": 4,
 "nbformat_minor": 2
}
